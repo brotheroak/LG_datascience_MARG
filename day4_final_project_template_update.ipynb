{
  "nbformat": 4,
  "nbformat_minor": 0,
  "metadata": {
    "colab": {
      "name": "day4_final_project_template_update.ipynb",
      "provenance": [],
      "collapsed_sections": [],
      "authorship_tag": "ABX9TyPkUdpY0sBtSeh94rKDaauZ",
      "include_colab_link": true
    },
    "kernelspec": {
      "name": "python3",
      "display_name": "Python 3"
    }
  },
  "cells": [
    {
      "cell_type": "markdown",
      "metadata": {
        "id": "view-in-github",
        "colab_type": "text"
      },
      "source": [
        "<a href=\"https://colab.research.google.com/github/juheo/LG_datascience_MARG/blob/master/day4_final_project_template_update.ipynb\" target=\"_parent\"><img src=\"https://colab.research.google.com/assets/colab-badge.svg\" alt=\"Open In Colab\"/></a>"
      ]
    },
    {
      "cell_type": "markdown",
      "metadata": {
        "id": "H5XW_BCbBLYQ",
        "colab_type": "text"
      },
      "source": [
        "# FINAL PROJECT TEMPLATE\n",
        "\n",
        "\n",
        "\n"
      ]
    },
    {
      "cell_type": "code",
      "metadata": {
        "id": "XysrvWdjGeoQ",
        "colab_type": "code",
        "colab": {}
      },
      "source": [
        "# train data (numpy ver) download\n",
        "!wget --no-check-certificate -qq -r 'https://docs.google.com/uc?export=download&id=1CFKZf97pTozo2DNPnDsMcY0SVPvN8mj-' -O recordings_npy.zip\n",
        "!mkdir speech_mnist\n",
        "!unzip -qq /content/recordings_npy.zip -d ./speech_mnist"
      ],
      "execution_count": 0,
      "outputs": []
    },
    {
      "cell_type": "code",
      "metadata": {
        "id": "E6yDXSWVBRq9",
        "colab_type": "code",
        "colab": {}
      },
      "source": [
        "import glob\n",
        "import numpy as np \n",
        "import librosa\n",
        "import matplotlib.pyplot as plt \n",
        "from sklearn.model_selection import train_test_split\n",
        "from keras.models import Sequential, Model, Input, load_model\n",
        "from keras.layers import Dense, Dropout, Activation, Flatten, Conv2D, Conv1D, BatchNormalization,pooling\n",
        "from keras.optimizers import Adam\n",
        "from keras.callbacks import ModelCheckpoint\n",
        "\n",
        "\n",
        "# baseline model \n",
        "\n",
        "def pad(mel, max_length):\n",
        "  if np.shape(mel)[1] >= max_length:\n",
        "    return mel[:,:max_length]\n",
        "  else :\n",
        "    pad_length = max_length-np.shape(mel)[1]\n",
        "    return np.concatenate((mel, np.zeros((128, pad_length))), axis=1)\n",
        "\n",
        "\n",
        "def preprocessing(wav_path):\n",
        "  X_temp = []\n",
        "  Y = []\n",
        "  sr = 8000\n",
        "  n_fft = 512\n",
        "  hop_length = 128\n",
        "  classes = 10\n",
        "  for item in wav_path:\n",
        "    audio = np.load(item)\n",
        "    melspectrogram = librosa.feature.melspectrogram(y=audio, sr=sr, n_fft=n_fft, hop_length =hop_length)\n",
        "    mel_norm = melspectrogram/np.max(melspectrogram)\n",
        "    mel_log = np.log(mel_norm+1e-5)\n",
        "    X_temp.append(melspectrogram)\n",
        "    label = np.eye(classes)[(int)(item.split('/')[-1].split('_')[0])]\n",
        "    Y.append(label)\n",
        "  \n",
        "  all_length = [] \n",
        "  for item in X_temp:\n",
        "    all_length.append(np.shape(item)[1])\n",
        "  max_length = np.max(all_length)\n",
        "\n",
        "  X = []\n",
        "  for item in X_temp:\n",
        "    X.append(pad(item, max_length))\n",
        "\n",
        "  X = np.asarray(X)\n",
        "  Y = np.asarray(Y)\n",
        "  return X, Y\n",
        "\n",
        "\n",
        "\n",
        "def preprocessing_test(wav_path):\n",
        "  X_temp = []\n",
        "  Y = []\n",
        "  sr = 8000\n",
        "  n_fft = 512\n",
        "  hop_length = 128\n",
        "  classes = 10\n",
        "  for item in wav_path:\n",
        "    audio, sr = librosa.load(item, sr=sr)\n",
        "    melspectrogram = librosa.feature.melspectrogram(y=audio, sr=sr, n_fft=n_fft, hop_length =hop_length)\n",
        "    mel_norm = melspectrogram/np.max(melspectrogram)\n",
        "    mel_log = np.log(mel_norm+1e-5)\n",
        "    X_temp.append(melspectrogram)\n",
        "    label = np.eye(classes)[(int)(item.split('/')[-1].split('_')[0])]\n",
        "    Y.append(label)\n",
        "  \n",
        "  all_length = [] \n",
        "  for item in X_temp:\n",
        "    all_length.append(np.shape(item)[1])\n",
        "  max_length = np.max(all_length)\n",
        "\n",
        "  X = []\n",
        "  for item in X_temp:\n",
        "    X.append(pad(item, max_length))\n",
        "\n",
        "  X = np.asarray(X)\n",
        "  Y = np.asarray(Y)\n",
        "  return X, Y\n",
        "\n",
        "\n",
        "def build_model():\n",
        "  model = Sequential()\n",
        "  model.add(BatchNormalization(input_shape=(128,143)))\n",
        "  model.add(Activation('relu'))\n",
        "  model.add(Conv1D(64,3,padding='same',kernel_initializer='he_normal'))\n",
        "  model.add(BatchNormalization())\n",
        "  model.add(Activation('relu'))\n",
        "  model.add(Conv1D(64,3,padding='same',kernel_initializer='he_normal'))\n",
        "  model.add(pooling.MaxPooling1D(pool_size=2))\n",
        "  model.add(pooling.MaxPooling1D(pool_size=2))\n",
        "  model.add(pooling.AveragePooling1D(pool_size=2))\n",
        "  model.add(Flatten())\n",
        "  model.add(Dense(32, activation='relu'))\n",
        "  model.add(Dense(10, activation='softmax'))\n",
        "  return model\n",
        "\n",
        "\n",
        "def train(model, X, Y):\n",
        "  X_train, X_test, Y_train, Y_test = train_test_split(X, Y, test_size=0.1, random_state=777)\n",
        "  model.compile(loss = 'categorical_crossentropy', optimizer = 'adam', metrics = ['accuracy'])\n",
        "  hist = model.fit(X_train, Y_train, batch_size=32, epochs=10, verbose=0, validation_split=0.1)\n",
        "  return hist\n",
        "\n",
        "\n",
        "def evaluate(model, X, Y):\n",
        "  print(model.evaluate(X, Y))"
      ],
      "execution_count": 0,
      "outputs": []
    },
    {
      "cell_type": "code",
      "metadata": {
        "id": "2HxlKRX7fMYG",
        "colab_type": "code",
        "colab": {}
      },
      "source": [
        "# train data download\n",
        "!wget --no-check-certificate -qq -r 'https://docs.google.com/uc?export=download&id=1Rz0x4BqPDO6HgnuZMpkSYOFeYPWWZjav' -O recordings.zip\n",
        "!mkdir speech_mnist_test\n",
        "!unzip -qq /content/recordings.zip -d ./speech_mnist_test"
      ],
      "execution_count": 0,
      "outputs": []
    },
    {
      "cell_type": "code",
      "metadata": {
        "id": "bvvun90TGg_W",
        "colab_type": "code",
        "outputId": "a6b71f3c-2ad2-4bbd-f8d4-ac99c7b2af45",
        "colab": {
          "base_uri": "https://localhost:8080/",
          "height": 52
        }
      },
      "source": [
        "# evaluate\n",
        "\n",
        "wav_path = sorted(glob.glob('./speech_mnist/*.npy'))\n",
        "test_path = glob.glob('/content/speech_mnist_test/audio_test_two/*.wav')\n",
        "X, Y = preprocessing(wav_path)\n",
        "X_test, Y_test = preprocessing_test(test_path)\n",
        "print(np.shape(X))\n",
        "print(np.shape(X_test))"
      ],
      "execution_count": 0,
      "outputs": [
        {
          "output_type": "stream",
          "text": [
            "(2000, 128, 143)\n",
            "(20, 128, 70)\n"
          ],
          "name": "stdout"
        }
      ]
    },
    {
      "cell_type": "code",
      "metadata": {
        "id": "LD2bPosqfv7t",
        "colab_type": "code",
        "colab": {}
      },
      "source": [
        "X_test_final = np.concatenate((X_test, np.zeros((20,128,73))),axis=-1)"
      ],
      "execution_count": 0,
      "outputs": []
    },
    {
      "cell_type": "code",
      "metadata": {
        "id": "n-eHvLbDfoJQ",
        "colab_type": "code",
        "outputId": "0d1f4c2a-4cdc-40b7-9e06-71d2378c5e16",
        "colab": {
          "base_uri": "https://localhost:8080/",
          "height": 52
        }
      },
      "source": [
        "model = build_model()\n",
        "hist = train(model, X, Y)\n",
        "evaluate(model, X_test_final, Y_test)\n",
        "\n",
        "\n",
        "\n",
        "''' 조교 최종 평가 코드 ''' \n",
        "\n",
        "final_test_path = glob.glob('/final_test/*.wav') # (8000Hz, 다양한 길이의 오디오 파일)\n",
        "X_test, Y_test = preprocessing_test(final_test_path)\n",
        "evaluate(model, X_test, Y_test)"
      ],
      "execution_count": 0,
      "outputs": [
        {
          "output_type": "stream",
          "text": [
            "\r20/20 [==============================] - 0s 475us/step\n",
            "[8.311784744262695, 0.3499999940395355]\n"
          ],
          "name": "stdout"
        }
      ]
    },
    {
      "cell_type": "markdown",
      "metadata": {
        "id": "nxecG-7qpJS6",
        "colab_type": "text"
      },
      "source": [
        "# validation data (LG_MNIST_dataset) downloads"
      ]
    },
    {
      "cell_type": "code",
      "metadata": {
        "id": "T5Lzkyd3pHvJ",
        "colab_type": "code",
        "colab": {}
      },
      "source": [
        "# LG_MNIST validation data (numpy ver, sr : 8000 Hz) download\n",
        "!wget --no-check-certificate -qq -r 'https://docs.google.com/uc?export=download&id=1vr5KFu47y5LJ0nt-ivJBcHHOSJlyfeyo' -O recordings_npy.zip\n",
        "!mkdir speech_mnist_LG_test\n",
        "!unzip -qq /content/recordings_npy.zip -d ./speech_mnist_LG_test"
      ],
      "execution_count": 0,
      "outputs": []
    },
    {
      "cell_type": "code",
      "metadata": {
        "id": "FfoOdMYnpaVc",
        "colab_type": "code",
        "colab": {
          "base_uri": "https://localhost:8080/",
          "height": 75
        },
        "outputId": "b0ca11e5-e3d2-4ccb-d7f6-e565de2a2aa0"
      },
      "source": [
        "import IPython.display as ipd\n",
        "\n",
        "test_sample_path = '/content/speech_mnist_LG_test/0_test10_0.npy'\n",
        "temp = np.load(test_sample_path)\n",
        "\n",
        "ipd.Audio(temp, rate=8000, autoplay=False)"
      ],
      "execution_count": 15,
      "outputs": [
        {
          "output_type": "execute_result",
          "data": {
            "text/html": [
              "\n",
              "                <audio controls=\"controls\" >\n",
              "                    <source src=\"data:audio/wav;base64,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\" type=\"audio/wav\" />\n",
              "                    Your browser does not support the audio element.\n",
              "                </audio>\n",
              "              "
            ],
            "text/plain": [
              "<IPython.lib.display.Audio object>"
            ]
          },
          "metadata": {
            "tags": []
          },
          "execution_count": 15
        }
      ]
    },
    {
      "cell_type": "code",
      "metadata": {
        "id": "kuMaOeBeppGH",
        "colab_type": "code",
        "colab": {
          "base_uri": "https://localhost:8080/",
          "height": 285
        },
        "outputId": "82802d22-40c6-4e60-bb62-0e52ea627e94"
      },
      "source": [
        "spectrogram = librosa.feature.melspectrogram(y=temp, sr=8000, n_fft=512, hop_length=128)\n",
        "plt.imshow(np.log(spectrogram+1e-3))"
      ],
      "execution_count": 17,
      "outputs": [
        {
          "output_type": "execute_result",
          "data": {
            "text/plain": [
              "<matplotlib.image.AxesImage at 0x7f9b8bff64e0>"
            ]
          },
          "metadata": {
            "tags": []
          },
          "execution_count": 17
        },
        {
          "output_type": "display_data",
          "data": {
            "image/png": "[encoded data removed]",
            "text/plain": [
              "<Figure size 432x288 with 1 Axes>"
            ]
          },
          "metadata": {
            "tags": []
          }
        }
      ]
    },
    {
      "cell_type": "code",
      "metadata": {
        "id": "n_iysjNZp9Aj",
        "colab_type": "code",
        "colab": {}
      },
      "source": [
        ""
      ],
      "execution_count": 0,
      "outputs": []
    }
  ]
}